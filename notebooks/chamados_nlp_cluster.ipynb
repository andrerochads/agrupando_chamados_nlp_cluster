{
 "cells": [
  {
   "cell_type": "markdown",
   "metadata": {},
   "source": [
    "# Projeto: Agrupamentos de Chamados (NLP + Cluster)"
   ]
  },
  {
   "cell_type": "markdown",
   "metadata": {},
   "source": [
    "# 0.0 IMPORTS"
   ]
  },
  {
   "cell_type": "code",
   "execution_count": 934,
   "metadata": {},
   "outputs": [],
   "source": [
    "import pandas               as pd\n",
    "import numpy                as np\n",
    "import regex                as re\n",
    "import matplotlib.pyplot    as plt\n",
    "import seaborn              as sns\n",
    "import nltk\n",
    "import openpyxl\n",
    "import spacy\n",
    "\n",
    "\n",
    "from gensim.models                      import Word2Vec\n",
    "from unidecode                          import unidecode\n",
    "from nltk.tokenize                      import word_tokenize\n",
    "from nltk.stem                          import PorterStemmer\n",
    "from nltk                               import FreqDist\n",
    "from sklearn.metrics.pairwise           import cosine_similarity\n",
    "from sklearn.feature_extraction.text    import TfidfVectorizer\n",
    "from sklearn.preprocessing              import StandardScaler, RobustScaler, MinMaxScaler\n",
    "from sklearn.cluster                    import KMeans\n",
    "from sklearn                            import cluster as ct\n",
    "from sklearn                            import metrics as mt"
   ]
  },
  {
   "cell_type": "markdown",
   "metadata": {},
   "source": [
    "## 0.1 Read Data"
   ]
  },
  {
   "cell_type": "code",
   "execution_count": 935,
   "metadata": {},
   "outputs": [],
   "source": [
    "df_raw = pd.read_excel('dataset/BASE_P_TESTE.xlsx')"
   ]
  },
  {
   "cell_type": "markdown",
   "metadata": {},
   "source": [
    "## 0.2 Help Functions"
   ]
  },
  {
   "cell_type": "code",
   "execution_count": 936,
   "metadata": {},
   "outputs": [],
   "source": [
    "# pd.options.display.max_rows = None"
   ]
  },
  {
   "cell_type": "markdown",
   "metadata": {},
   "source": [
    "# 1.0 Data Description"
   ]
  },
  {
   "cell_type": "code",
   "execution_count": 937,
   "metadata": {},
   "outputs": [
    {
     "data": {
      "text/html": [
       "<div>\n",
       "<style scoped>\n",
       "    .dataframe tbody tr th:only-of-type {\n",
       "        vertical-align: middle;\n",
       "    }\n",
       "\n",
       "    .dataframe tbody tr th {\n",
       "        vertical-align: top;\n",
       "    }\n",
       "\n",
       "    .dataframe thead th {\n",
       "        text-align: right;\n",
       "    }\n",
       "</style>\n",
       "<table border=\"1\" class=\"dataframe\">\n",
       "  <thead>\n",
       "    <tr style=\"text-align: right;\">\n",
       "      <th></th>\n",
       "      <th>TIPO_CHAMADO</th>\n",
       "      <th>DS_FRENTE_CHAMADO</th>\n",
       "      <th>DS_DESCRICAO_CHAMADO</th>\n",
       "      <th>LOG_INTERACAO</th>\n",
       "    </tr>\n",
       "  </thead>\n",
       "  <tbody>\n",
       "    <tr>\n",
       "      <th>0</th>\n",
       "      <td>INCIDENTE</td>\n",
       "      <td>B1</td>\n",
       "      <td>#0121-000006</td>\n",
       "      <td>Favor incluir o código ANP nas utilizações em ...</td>\n",
       "    </tr>\n",
       "    <tr>\n",
       "      <th>1</th>\n",
       "      <td>INCIDENTE</td>\n",
       "      <td>B1</td>\n",
       "      <td>#0121-000009</td>\n",
       "      <td>Favor validar porque na carga é permitido e na...</td>\n",
       "    </tr>\n",
       "    <tr>\n",
       "      <th>2</th>\n",
       "      <td>INCIDENTE</td>\n",
       "      <td>B1</td>\n",
       "      <td>PERIODO CONTABIL</td>\n",
       "      <td>Bom dia!  Ao tentar fazer os lançamentos com a...</td>\n",
       "    </tr>\n",
       "    <tr>\n",
       "      <th>3</th>\n",
       "      <td>INCIDENTE</td>\n",
       "      <td>B1</td>\n",
       "      <td>#0121-000015</td>\n",
       "      <td>O relatório de Movimentações, em Granel Relató...</td>\n",
       "    </tr>\n",
       "    <tr>\n",
       "      <th>4</th>\n",
       "      <td>INCIDENTE</td>\n",
       "      <td>B1</td>\n",
       "      <td>#0121-000022</td>\n",
       "      <td>Ao extrair o relatório de cliente das filiais ...</td>\n",
       "    </tr>\n",
       "  </tbody>\n",
       "</table>\n",
       "</div>"
      ],
      "text/plain": [
       "  TIPO_CHAMADO DS_FRENTE_CHAMADO DS_DESCRICAO_CHAMADO  \\\n",
       "0    INCIDENTE                B1         #0121-000006   \n",
       "1    INCIDENTE                B1         #0121-000009   \n",
       "2    INCIDENTE                B1     PERIODO CONTABIL   \n",
       "3    INCIDENTE                B1         #0121-000015   \n",
       "4    INCIDENTE                B1         #0121-000022   \n",
       "\n",
       "                                       LOG_INTERACAO  \n",
       "0  Favor incluir o código ANP nas utilizações em ...  \n",
       "1  Favor validar porque na carga é permitido e na...  \n",
       "2  Bom dia!  Ao tentar fazer os lançamentos com a...  \n",
       "3  O relatório de Movimentações, em Granel Relató...  \n",
       "4  Ao extrair o relatório de cliente das filiais ...  "
      ]
     },
     "execution_count": 937,
     "metadata": {},
     "output_type": "execute_result"
    }
   ],
   "source": [
    "df1 = df_raw.copy()\n",
    "df1.head()"
   ]
  },
  {
   "cell_type": "markdown",
   "metadata": {},
   "source": [
    "## 1.1 Data Dimesion"
   ]
  },
  {
   "cell_type": "code",
   "execution_count": 938,
   "metadata": {},
   "outputs": [
    {
     "name": "stdout",
     "output_type": "stream",
     "text": [
      "Number of Rows: 2027\n",
      "Number of Cols: 4\n"
     ]
    }
   ],
   "source": [
    "print('Number of Rows: {}'.format(df1.shape[0]))\n",
    "print('Number of Cols: {}'.format(df1.shape[1]))"
   ]
  },
  {
   "cell_type": "markdown",
   "metadata": {},
   "source": [
    "## 1.2 Data Types"
   ]
  },
  {
   "cell_type": "code",
   "execution_count": 939,
   "metadata": {},
   "outputs": [
    {
     "data": {
      "text/plain": [
       "TIPO_CHAMADO            object\n",
       "DS_FRENTE_CHAMADO       object\n",
       "DS_DESCRICAO_CHAMADO    object\n",
       "LOG_INTERACAO           object\n",
       "dtype: object"
      ]
     },
     "execution_count": 939,
     "metadata": {},
     "output_type": "execute_result"
    }
   ],
   "source": [
    "df1.dtypes"
   ]
  },
  {
   "cell_type": "code",
   "execution_count": 940,
   "metadata": {},
   "outputs": [
    {
     "data": {
      "text/plain": [
       "TIPO_CHAMADO               1\n",
       "DS_FRENTE_CHAMADO          1\n",
       "DS_DESCRICAO_CHAMADO    1872\n",
       "LOG_INTERACAO           2021\n",
       "dtype: int64"
      ]
     },
     "execution_count": 940,
     "metadata": {},
     "output_type": "execute_result"
    }
   ],
   "source": [
    "# Valores únicos\n",
    "df1.nunique()"
   ]
  },
  {
   "cell_type": "markdown",
   "metadata": {},
   "source": [
    "## 1.3 Checando NAN"
   ]
  },
  {
   "cell_type": "code",
   "execution_count": 941,
   "metadata": {},
   "outputs": [
    {
     "data": {
      "text/plain": [
       "TIPO_CHAMADO            0\n",
       "DS_FRENTE_CHAMADO       0\n",
       "DS_DESCRICAO_CHAMADO    0\n",
       "LOG_INTERACAO           0\n",
       "dtype: int64"
      ]
     },
     "execution_count": 941,
     "metadata": {},
     "output_type": "execute_result"
    }
   ],
   "source": [
    "df1.isna().sum()"
   ]
  },
  {
   "cell_type": "markdown",
   "metadata": {},
   "source": [
    "## 1.4 Polindo Dataset"
   ]
  },
  {
   "cell_type": "code",
   "execution_count": 942,
   "metadata": {},
   "outputs": [],
   "source": [
    "# Removendo caixa alta coluna\n",
    "df1.columns = [coluna.lower() for coluna in df1.columns]\n",
    "df1.columns\n",
    "\n",
    "# Renomeando Colunas\n",
    "rename_columns = {'ds_descricao_chamado': 'descr_cham', 'log_interacao': 'logi'}\n",
    "df1.rename(columns=rename_columns, inplace=True)\n",
    "\n",
    "# Removendo colunas\n",
    "df1 = df1.drop(['tipo_chamado', 'ds_frente_chamado'], axis=1)"
   ]
  },
  {
   "cell_type": "markdown",
   "metadata": {},
   "source": [
    "# 2.0 NLP"
   ]
  },
  {
   "cell_type": "code",
   "execution_count": 943,
   "metadata": {},
   "outputs": [],
   "source": [
    "df2 = df1.copy()"
   ]
  },
  {
   "cell_type": "markdown",
   "metadata": {},
   "source": [
    "## 2.1 Remoção Stop words"
   ]
  },
  {
   "cell_type": "code",
   "execution_count": 944,
   "metadata": {},
   "outputs": [
    {
     "data": {
      "text/html": [
       "<div>\n",
       "<style scoped>\n",
       "    .dataframe tbody tr th:only-of-type {\n",
       "        vertical-align: middle;\n",
       "    }\n",
       "\n",
       "    .dataframe tbody tr th {\n",
       "        vertical-align: top;\n",
       "    }\n",
       "\n",
       "    .dataframe thead th {\n",
       "        text-align: right;\n",
       "    }\n",
       "</style>\n",
       "<table border=\"1\" class=\"dataframe\">\n",
       "  <thead>\n",
       "    <tr style=\"text-align: right;\">\n",
       "      <th></th>\n",
       "      <th>descr_cham</th>\n",
       "      <th>logi</th>\n",
       "    </tr>\n",
       "  </thead>\n",
       "  <tbody>\n",
       "    <tr>\n",
       "      <th>0</th>\n",
       "      <td>#0121</td>\n",
       "      <td>incluir código ANP utilizações anexo . Colocar...</td>\n",
       "    </tr>\n",
       "    <tr>\n",
       "      <th>1</th>\n",
       "      <td>#0121</td>\n",
       "      <td>validar carga permitido Descarga utilizar códi...</td>\n",
       "    </tr>\n",
       "    <tr>\n",
       "      <th>2</th>\n",
       "      <td>PERIODO CONTABIL</td>\n",
       "      <td>dia !   lançamentos data emissão ano 2021 dand...</td>\n",
       "    </tr>\n",
       "    <tr>\n",
       "      <th>3</th>\n",
       "      <td>#0121</td>\n",
       "      <td>relatório Movimentações , Granel Relatórios , ...</td>\n",
       "    </tr>\n",
       "    <tr>\n",
       "      <th>4</th>\n",
       "      <td>#0121</td>\n",
       "      <td>extrair relatório cliente filiais SL1 , SL2 , ...</td>\n",
       "    </tr>\n",
       "  </tbody>\n",
       "</table>\n",
       "</div>"
      ],
      "text/plain": [
       "         descr_cham                                               logi\n",
       "0             #0121  incluir código ANP utilizações anexo . Colocar...\n",
       "1             #0121  validar carga permitido Descarga utilizar códi...\n",
       "2  PERIODO CONTABIL  dia !   lançamentos data emissão ano 2021 dand...\n",
       "3             #0121  relatório Movimentações , Granel Relatórios , ...\n",
       "4             #0121  extrair relatório cliente filiais SL1 , SL2 , ..."
      ]
     },
     "execution_count": 944,
     "metadata": {},
     "output_type": "execute_result"
    }
   ],
   "source": [
    "# Remoção de stopwords\n",
    "nlp = spacy.load('pt_core_news_sm')\n",
    "\n",
    "def remove_stop_words(texto):\n",
    "    \n",
    "    # Para os com #\n",
    "    if texto.startswith('#'):\n",
    "        match = re.search(r'SAP - (.+)', texto)\n",
    "        if match:\n",
    "            resultado = match.group(1)\n",
    "            return resultado\n",
    "\n",
    "        return re.search(r'#.{4}', texto).group()\n",
    "\n",
    "    # Processar o texto - Tokeniza\n",
    "    doc = nlp(texto)\n",
    "    \n",
    "    # Filtrar tokens que não são \"stop words\"\n",
    "    filtered_tokens = [token.text for token in doc if not token.is_stop]\n",
    "    \n",
    "    # Juntar os tokens\n",
    "    filtered_text = ' '.join(filtered_tokens)\n",
    "    \n",
    "    return filtered_text\n",
    "\n",
    "df2[['descr_cham', 'logi']] = df2[['descr_cham', 'logi']].applymap(remove_stop_words)\n",
    "df2.head()"
   ]
  },
  {
   "cell_type": "markdown",
   "metadata": {},
   "source": [
    "## 2.2 Remoção Caracteres Especiais"
   ]
  },
  {
   "cell_type": "code",
   "execution_count": 945,
   "metadata": {},
   "outputs": [],
   "source": [
    "# Remoção de caracteres especiais\n",
    "\n",
    "def remove_special_characters(texto):\n",
    "    \n",
    "    if texto.startswith('#'):\n",
    "        return texto\n",
    "\n",
    "\n",
    "    clean_text = unidecode(texto)\n",
    "    clean_text = re.sub(r'[^\\w\\s]', '', clean_text)\n",
    "        \n",
    "    patterns_to_remove = [r'\\b\\d+\\b', r'\\b\\w*\\d\\w*\\b', r'\\bOlá\\b', r'\\bOla\\b', r'\\bdia\\b', r'\\bn\\b', r'\\bnº\\b'] \n",
    "    \n",
    "    for pattern in patterns_to_remove:\n",
    "        clean_text = re.sub(pattern, '', clean_text)\n",
    "\n",
    "    \n",
    "    return clean_text.lower()\n",
    "\n",
    "df2[['descr_cham', 'logi']] = df2[['descr_cham', 'logi']].applymap(remove_special_characters)"
   ]
  },
  {
   "cell_type": "markdown",
   "metadata": {},
   "source": [
    "## 2.3 Lematização "
   ]
  },
  {
   "cell_type": "code",
   "execution_count": 946,
   "metadata": {},
   "outputs": [],
   "source": [
    "# Lematização\n",
    "\n",
    "def lematizar_texto(texto):\n",
    "    nlp = spacy.load(\"pt_core_news_sm\")\n",
    "    \n",
    "    if texto.startswith('#'):\n",
    "        return texto\n",
    "    \n",
    "    doc = nlp(texto)\n",
    "    \n",
    "    lemas = [token.lemma_ for token in doc]\n",
    "    \n",
    "    texto_lematizado = \" \".join(lemas)\n",
    "    \n",
    "    return texto_lematizado\n",
    "\n",
    "df2[['descr_cham', 'logi']] = df2[['descr_cham', 'logi']].applymap(remove_special_characters)"
   ]
  },
  {
   "cell_type": "markdown",
   "metadata": {},
   "source": [
    "## 2.4 Quantidade de palavras distintas"
   ]
  },
  {
   "cell_type": "code",
   "execution_count": 947,
   "metadata": {},
   "outputs": [
    {
     "name": "stdout",
     "output_type": "stream",
     "text": [
      "O número de palavras distintas no conjunto de dados é: 5932\n"
     ]
    },
    {
     "name": "stderr",
     "output_type": "stream",
     "text": [
      "[nltk_data] Downloading package punkt to\n",
      "[nltk_data]     C:\\Users\\andre\\AppData\\Roaming\\nltk_data...\n",
      "[nltk_data]   Package punkt is already up-to-date!\n"
     ]
    }
   ],
   "source": [
    "# Para ter uma noção do max_features para o TF-IDF\n",
    "\n",
    "# NLTK \n",
    "nltk.download('punkt');\n",
    "\n",
    "# Combine todas as strings em uma única string\n",
    "todos_os_textos = ' '.join(df2['logi'])\n",
    "\n",
    "# Tokenize a string em palavras\n",
    "palavras_tokenizadas = word_tokenize(todos_os_textos)\n",
    "\n",
    "# Use o set para obter as palavras distintas\n",
    "palavras_distintas = set(palavras_tokenizadas)\n",
    "\n",
    "# Calcule o número de palavras distintas\n",
    "numero_de_palavras_distintas = len(palavras_distintas)\n",
    "\n",
    "print(f\"O número de palavras distintas no conjunto de dados é: {numero_de_palavras_distintas}\")"
   ]
  },
  {
   "cell_type": "markdown",
   "metadata": {},
   "source": [
    "## 2.5 TF-IDF"
   ]
  },
  {
   "cell_type": "code",
   "execution_count": 948,
   "metadata": {},
   "outputs": [
    {
     "data": {
      "text/html": [
       "<div>\n",
       "<style scoped>\n",
       "    .dataframe tbody tr th:only-of-type {\n",
       "        vertical-align: middle;\n",
       "    }\n",
       "\n",
       "    .dataframe tbody tr th {\n",
       "        vertical-align: top;\n",
       "    }\n",
       "\n",
       "    .dataframe thead th {\n",
       "        text-align: right;\n",
       "    }\n",
       "</style>\n",
       "<table border=\"1\" class=\"dataframe\">\n",
       "  <thead>\n",
       "    <tr style=\"text-align: right;\">\n",
       "      <th></th>\n",
       "      <th>descr_cham</th>\n",
       "      <th>logi</th>\n",
       "    </tr>\n",
       "  </thead>\n",
       "  <tbody>\n",
       "    <tr>\n",
       "      <th>0</th>\n",
       "      <td>codigo anexo</td>\n",
       "      <td>incluir codigo anp utilizacoes anexo  colocar ...</td>\n",
       "    </tr>\n",
       "    <tr>\n",
       "      <th>1</th>\n",
       "      <td>carga cliente</td>\n",
       "      <td>validar carga permitido descarga utilizar codi...</td>\n",
       "    </tr>\n",
       "    <tr>\n",
       "      <th>2</th>\n",
       "      <td>periodo contabil</td>\n",
       "      <td>lancamentos data emissao ano  dando erro</td>\n",
       "    </tr>\n",
       "    <tr>\n",
       "      <th>3</th>\n",
       "      <td>campo relatorio</td>\n",
       "      <td>relatorio movimentacoes  granel relatorios  ca...</td>\n",
       "    </tr>\n",
       "    <tr>\n",
       "      <th>4</th>\n",
       "      <td>cliente extrair</td>\n",
       "      <td>extrair relatorio cliente filiais     teresina...</td>\n",
       "    </tr>\n",
       "  </tbody>\n",
       "</table>\n",
       "</div>"
      ],
      "text/plain": [
       "         descr_cham                                               logi\n",
       "0      codigo anexo  incluir codigo anp utilizacoes anexo  colocar ...\n",
       "1     carga cliente  validar carga permitido descarga utilizar codi...\n",
       "2  periodo contabil          lancamentos data emissao ano  dando erro \n",
       "3   campo relatorio  relatorio movimentacoes  granel relatorios  ca...\n",
       "4   cliente extrair  extrair relatorio cliente filiais     teresina..."
      ]
     },
     "execution_count": 948,
     "metadata": {},
     "output_type": "execute_result"
    }
   ],
   "source": [
    "# Treino TF-IDF\n",
    "\n",
    "def operation_hashtag(texto_logi, descr_cham):\n",
    "\n",
    "    if descr_cham.startswith('#'):    \n",
    "        texto_lista = [texto_logi]\n",
    "\n",
    "        tfidf_vectorizer = TfidfVectorizer(max_features=1000)\n",
    "        tfidf_vectorizer.fit(texto_lista)\n",
    "        tfidf_frase = tfidf_vectorizer.transform(texto_lista)\n",
    "\n",
    "        # Top 2 indices\n",
    "        top_indices = np.argsort(-tfidf_frase.toarray())[0][:2]\n",
    "\n",
    "        palavras_importantes = [tfidf_vectorizer.get_feature_names_out()[i] for i in top_indices]\n",
    "\n",
    "        return ' '.join(palavras_importantes)\n",
    "\n",
    "    return descr_cham\n",
    "\n",
    "df2['descr_cham'] = df2.apply(lambda x: operation_hashtag(x['logi'], x['descr_cham']), axis=1)\n",
    "\n",
    "df2.head()"
   ]
  },
  {
   "cell_type": "code",
   "execution_count": 949,
   "metadata": {},
   "outputs": [
    {
     "data": {
      "text/plain": [
       "0"
      ]
     },
     "execution_count": 949,
     "metadata": {},
     "output_type": "execute_result"
    }
   ],
   "source": [
    "df2['descr_cham'].str.startswith('#').sum()"
   ]
  },
  {
   "cell_type": "markdown",
   "metadata": {},
   "source": [
    "## 2.4 Treinamento Word2Vec"
   ]
  },
  {
   "cell_type": "markdown",
   "metadata": {},
   "source": [
    "### 2.4.1 W2C - Coluna descr_cham"
   ]
  },
  {
   "cell_type": "code",
   "execution_count": 950,
   "metadata": {},
   "outputs": [
    {
     "data": {
      "text/plain": [
       "(7417, 27720)"
      ]
     },
     "execution_count": 950,
     "metadata": {},
     "output_type": "execute_result"
    }
   ],
   "source": [
    "# TREINANDO W2V descr_cham\n",
    "\n",
    "# Tokenizar coluna\n",
    "descr_token = df2['descr_cham'].apply(lambda x: x.split()).tolist()\n",
    "\n",
    "# Define model\n",
    "modelo_w2v_descr = Word2Vec(descr_token, vector_size=100, window=5, min_count=10, sg=0)\n",
    "\n",
    "# Treino\n",
    "modelo_w2v_descr.train(descr_token, total_examples=len(descr_token), epochs=5)"
   ]
  },
  {
   "cell_type": "markdown",
   "metadata": {},
   "source": [
    "### 2.4.2 W2C - Coluna logi"
   ]
  },
  {
   "cell_type": "code",
   "execution_count": 951,
   "metadata": {},
   "outputs": [
    {
     "data": {
      "text/plain": [
       "(101687, 441890)"
      ]
     },
     "execution_count": 951,
     "metadata": {},
     "output_type": "execute_result"
    }
   ],
   "source": [
    "# TREINANDO W2V logi\n",
    "\n",
    "# Tokenizar coluna\n",
    "logi_token = df2['logi'].apply(lambda x: x.split()).tolist()\n",
    "\n",
    "# Define model\n",
    "modelo_w2v_logi = Word2Vec(logi_token, vector_size=100, window=10, min_count=50, sg=0)\n",
    "\n",
    "# Treino\n",
    "modelo_w2v_logi.train(logi_token, total_examples=len(logi_token), epochs=10)"
   ]
  },
  {
   "cell_type": "markdown",
   "metadata": {},
   "source": [
    "## 2.5 Média dos vetores"
   ]
  },
  {
   "cell_type": "code",
   "execution_count": 952,
   "metadata": {},
   "outputs": [],
   "source": [
    "# Média dos vetores para poder utilizar no Cluster\n",
    "\n",
    "def calcular_vetor_documento(tokens, modelo):\n",
    "\n",
    "    # Vetores de palavras para cada token\n",
    "    vetores = [modelo.wv[token] for token in tokens if token in modelo.wv]\n",
    "\n",
    "    # Média dos vetores\n",
    "    if vetores:\n",
    "        vetor_documento = np.mean(vetores, axis=0)\n",
    "    else:\n",
    "        vetor_documento = np.zeros(modelo.vector_size)  # Vetor de zeros se não houver tokens válidos\n",
    "\n",
    "    return vetor_documento\n",
    "\n",
    "df2['mean_vector_descr'] = df2['descr_cham'].apply(lambda x: calcular_vetor_documento(x.split(), modelo_w2v_descr))\n",
    "df2['mean_vector_logi'] = df2['logi'].apply(lambda x: calcular_vetor_documento(x.split(), modelo_w2v_logi))\n"
   ]
  },
  {
   "cell_type": "markdown",
   "metadata": {},
   "source": [
    "## 2.6 Vetor de Referência "
   ]
  },
  {
   "cell_type": "code",
   "execution_count": 953,
   "metadata": {},
   "outputs": [
    {
     "data": {
      "text/html": [
       "<div>\n",
       "<style scoped>\n",
       "    .dataframe tbody tr th:only-of-type {\n",
       "        vertical-align: middle;\n",
       "    }\n",
       "\n",
       "    .dataframe tbody tr th {\n",
       "        vertical-align: top;\n",
       "    }\n",
       "\n",
       "    .dataframe thead th {\n",
       "        text-align: right;\n",
       "    }\n",
       "</style>\n",
       "<table border=\"1\" class=\"dataframe\">\n",
       "  <thead>\n",
       "    <tr style=\"text-align: right;\">\n",
       "      <th></th>\n",
       "      <th>descr_cham</th>\n",
       "      <th>logi</th>\n",
       "      <th>mean_vector_descr</th>\n",
       "      <th>mean_vector_logi</th>\n",
       "      <th>similaridade_cos_sobre_descr</th>\n",
       "      <th>similaridade_cos_sobre_logi</th>\n",
       "    </tr>\n",
       "  </thead>\n",
       "  <tbody>\n",
       "    <tr>\n",
       "      <th>0</th>\n",
       "      <td>codigo anexo</td>\n",
       "      <td>incluir codigo anp utilizacoes anexo  colocar ...</td>\n",
       "      <td>[0.0047858674, 0.008326912, 0.003120263, 0.000...</td>\n",
       "      <td>[0.07536332, 0.19143584, -0.008748194, -0.1771...</td>\n",
       "      <td>0.653843</td>\n",
       "      <td>0.807447</td>\n",
       "    </tr>\n",
       "    <tr>\n",
       "      <th>1</th>\n",
       "      <td>carga cliente</td>\n",
       "      <td>validar carga permitido descarga utilizar codi...</td>\n",
       "      <td>[0.0019139244, -0.007165901, 0.005445411, -0.0...</td>\n",
       "      <td>[0.28988227, 0.081708394, -0.00898085, -0.2630...</td>\n",
       "      <td>0.392941</td>\n",
       "      <td>0.764610</td>\n",
       "    </tr>\n",
       "    <tr>\n",
       "      <th>2</th>\n",
       "      <td>periodo contabil</td>\n",
       "      <td>lancamentos data emissao ano  dando erro</td>\n",
       "      <td>[-0.0035850946, -5.8654696e-06, -0.0072977776,...</td>\n",
       "      <td>[-0.03461906, 0.06527248, 0.02200593, -0.08341...</td>\n",
       "      <td>0.474018</td>\n",
       "      <td>0.942235</td>\n",
       "    </tr>\n",
       "    <tr>\n",
       "      <th>3</th>\n",
       "      <td>campo relatorio</td>\n",
       "      <td>relatorio movimentacoes  granel relatorios  ca...</td>\n",
       "      <td>[-0.0055372627, -0.0012844559, 0.0007189282, -...</td>\n",
       "      <td>[-0.1083368, -0.13413852, -0.000439393, -0.269...</td>\n",
       "      <td>0.553458</td>\n",
       "      <td>0.731851</td>\n",
       "    </tr>\n",
       "    <tr>\n",
       "      <th>4</th>\n",
       "      <td>cliente extrair</td>\n",
       "      <td>extrair relatorio cliente filiais     teresina...</td>\n",
       "      <td>[0.0019139244, -0.007165901, 0.005445411, -0.0...</td>\n",
       "      <td>[-0.02973405, -0.177734, -0.1438109, -0.282369...</td>\n",
       "      <td>0.392941</td>\n",
       "      <td>0.730727</td>\n",
       "    </tr>\n",
       "  </tbody>\n",
       "</table>\n",
       "</div>"
      ],
      "text/plain": [
       "         descr_cham                                               logi  \\\n",
       "0      codigo anexo  incluir codigo anp utilizacoes anexo  colocar ...   \n",
       "1     carga cliente  validar carga permitido descarga utilizar codi...   \n",
       "2  periodo contabil          lancamentos data emissao ano  dando erro    \n",
       "3   campo relatorio  relatorio movimentacoes  granel relatorios  ca...   \n",
       "4   cliente extrair  extrair relatorio cliente filiais     teresina...   \n",
       "\n",
       "                                   mean_vector_descr  \\\n",
       "0  [0.0047858674, 0.008326912, 0.003120263, 0.000...   \n",
       "1  [0.0019139244, -0.007165901, 0.005445411, -0.0...   \n",
       "2  [-0.0035850946, -5.8654696e-06, -0.0072977776,...   \n",
       "3  [-0.0055372627, -0.0012844559, 0.0007189282, -...   \n",
       "4  [0.0019139244, -0.007165901, 0.005445411, -0.0...   \n",
       "\n",
       "                                    mean_vector_logi  \\\n",
       "0  [0.07536332, 0.19143584, -0.008748194, -0.1771...   \n",
       "1  [0.28988227, 0.081708394, -0.00898085, -0.2630...   \n",
       "2  [-0.03461906, 0.06527248, 0.02200593, -0.08341...   \n",
       "3  [-0.1083368, -0.13413852, -0.000439393, -0.269...   \n",
       "4  [-0.02973405, -0.177734, -0.1438109, -0.282369...   \n",
       "\n",
       "   similaridade_cos_sobre_descr  similaridade_cos_sobre_logi  \n",
       "0                      0.653843                     0.807447  \n",
       "1                      0.392941                     0.764610  \n",
       "2                      0.474018                     0.942235  \n",
       "3                      0.553458                     0.731851  \n",
       "4                      0.392941                     0.730727  "
      ]
     },
     "execution_count": 953,
     "metadata": {},
     "output_type": "execute_result"
    }
   ],
   "source": [
    "# Vetor de referência (por exemplo, média dos vetores de todos os documentos)\n",
    "vref_descr = df2['mean_vector_descr'].mean()\n",
    "vref_logi = df2['mean_vector_logi'].mean()\n",
    "\n",
    "\n",
    "# Calcular a similaridade de cosseno entre o vetor de referência e os vetores de documentos\n",
    "df2['similaridade_cos_sobre_descr'] = df2['mean_vector_descr'].apply(lambda x: cosine_similarity([vref_descr], [x])[0][0])\n",
    "df2['similaridade_cos_sobre_logi'] = df2['mean_vector_logi'].apply(lambda x: cosine_similarity([vref_logi], [x])[0][0])\n",
    "df2.head()"
   ]
  },
  {
   "cell_type": "markdown",
   "metadata": {},
   "source": [
    "## 2.7 Dataset para o cluster "
   ]
  },
  {
   "cell_type": "code",
   "execution_count": 954,
   "metadata": {},
   "outputs": [
    {
     "data": {
      "text/html": [
       "<div>\n",
       "<style scoped>\n",
       "    .dataframe tbody tr th:only-of-type {\n",
       "        vertical-align: middle;\n",
       "    }\n",
       "\n",
       "    .dataframe tbody tr th {\n",
       "        vertical-align: top;\n",
       "    }\n",
       "\n",
       "    .dataframe thead th {\n",
       "        text-align: right;\n",
       "    }\n",
       "</style>\n",
       "<table border=\"1\" class=\"dataframe\">\n",
       "  <thead>\n",
       "    <tr style=\"text-align: right;\">\n",
       "      <th></th>\n",
       "      <th>descr_cluster</th>\n",
       "      <th>logi_cluster</th>\n",
       "    </tr>\n",
       "  </thead>\n",
       "  <tbody>\n",
       "    <tr>\n",
       "      <th>0</th>\n",
       "      <td>0.653843</td>\n",
       "      <td>0.807447</td>\n",
       "    </tr>\n",
       "    <tr>\n",
       "      <th>1</th>\n",
       "      <td>0.392941</td>\n",
       "      <td>0.764610</td>\n",
       "    </tr>\n",
       "    <tr>\n",
       "      <th>2</th>\n",
       "      <td>0.474018</td>\n",
       "      <td>0.942235</td>\n",
       "    </tr>\n",
       "    <tr>\n",
       "      <th>3</th>\n",
       "      <td>0.553458</td>\n",
       "      <td>0.731851</td>\n",
       "    </tr>\n",
       "    <tr>\n",
       "      <th>4</th>\n",
       "      <td>0.392941</td>\n",
       "      <td>0.730727</td>\n",
       "    </tr>\n",
       "  </tbody>\n",
       "</table>\n",
       "</div>"
      ],
      "text/plain": [
       "   descr_cluster  logi_cluster\n",
       "0       0.653843      0.807447\n",
       "1       0.392941      0.764610\n",
       "2       0.474018      0.942235\n",
       "3       0.553458      0.731851\n",
       "4       0.392941      0.730727"
      ]
     },
     "execution_count": 954,
     "metadata": {},
     "output_type": "execute_result"
    }
   ],
   "source": [
    "df2_to_cluster = df2.drop(['descr_cham', 'logi', 'mean_vector_descr', 'mean_vector_logi'], axis=1)\n",
    "df2_to_cluster = df2_to_cluster.rename(columns={'similaridade_cos_sobre_descr': 'descr_cluster', 'similaridade_cos_sobre_logi': 'logi_cluster'})\n",
    "df2_to_cluster.head()"
   ]
  },
  {
   "cell_type": "markdown",
   "metadata": {},
   "source": [
    "## 2.8 Dataset para os labels (cluster)"
   ]
  },
  {
   "cell_type": "code",
   "execution_count": 955,
   "metadata": {},
   "outputs": [
    {
     "data": {
      "text/html": [
       "<div>\n",
       "<style scoped>\n",
       "    .dataframe tbody tr th:only-of-type {\n",
       "        vertical-align: middle;\n",
       "    }\n",
       "\n",
       "    .dataframe tbody tr th {\n",
       "        vertical-align: top;\n",
       "    }\n",
       "\n",
       "    .dataframe thead th {\n",
       "        text-align: right;\n",
       "    }\n",
       "</style>\n",
       "<table border=\"1\" class=\"dataframe\">\n",
       "  <thead>\n",
       "    <tr style=\"text-align: right;\">\n",
       "      <th></th>\n",
       "      <th>descr_cham</th>\n",
       "      <th>logi</th>\n",
       "    </tr>\n",
       "  </thead>\n",
       "  <tbody>\n",
       "    <tr>\n",
       "      <th>0</th>\n",
       "      <td>codigo anexo</td>\n",
       "      <td>incluir codigo anp utilizacoes anexo  colocar ...</td>\n",
       "    </tr>\n",
       "    <tr>\n",
       "      <th>1</th>\n",
       "      <td>carga cliente</td>\n",
       "      <td>validar carga permitido descarga utilizar codi...</td>\n",
       "    </tr>\n",
       "    <tr>\n",
       "      <th>2</th>\n",
       "      <td>periodo contabil</td>\n",
       "      <td>lancamentos data emissao ano  dando erro</td>\n",
       "    </tr>\n",
       "    <tr>\n",
       "      <th>3</th>\n",
       "      <td>campo relatorio</td>\n",
       "      <td>relatorio movimentacoes  granel relatorios  ca...</td>\n",
       "    </tr>\n",
       "    <tr>\n",
       "      <th>4</th>\n",
       "      <td>cliente extrair</td>\n",
       "      <td>extrair relatorio cliente filiais     teresina...</td>\n",
       "    </tr>\n",
       "  </tbody>\n",
       "</table>\n",
       "</div>"
      ],
      "text/plain": [
       "         descr_cham                                               logi\n",
       "0      codigo anexo  incluir codigo anp utilizacoes anexo  colocar ...\n",
       "1     carga cliente  validar carga permitido descarga utilizar codi...\n",
       "2  periodo contabil          lancamentos data emissao ano  dando erro \n",
       "3   campo relatorio  relatorio movimentacoes  granel relatorios  ca...\n",
       "4   cliente extrair  extrair relatorio cliente filiais     teresina..."
      ]
     },
     "execution_count": 955,
     "metadata": {},
     "output_type": "execute_result"
    }
   ],
   "source": [
    "df2_to_label = df2.drop(['mean_vector_descr', 'mean_vector_logi', 'similaridade_cos_sobre_descr', 'similaridade_cos_sobre_logi'], axis=1)\n",
    "df2_to_label.head()"
   ]
  },
  {
   "cell_type": "markdown",
   "metadata": {},
   "source": [
    "# 3.0 Clusterização"
   ]
  },
  {
   "cell_type": "code",
   "execution_count": 956,
   "metadata": {},
   "outputs": [],
   "source": [
    "df3 = df2_to_cluster.copy()"
   ]
  },
  {
   "cell_type": "markdown",
   "metadata": {},
   "source": [
    "## 3.1 Elbow Method"
   ]
  },
  {
   "cell_type": "markdown",
   "metadata": {},
   "source": [
    "O Elbow Method, utiliza a métrica silhueta score (ss), para encontrar o melhor valor de k (centróides) para o cluster."
   ]
  },
  {
   "cell_type": "code",
   "execution_count": 957,
   "metadata": {},
   "outputs": [
    {
     "name": "stdout",
     "output_type": "stream",
     "text": [
      "Best K: 2\n"
     ]
    },
    {
     "data": {
      "image/png": "[encoded data removed]",
      "text/plain": [
       "<Figure size 640x480 with 1 Axes>"
      ]
     },
     "metadata": {},
     "output_type": "display_data"
    }
   ],
   "source": [
    "# Elbow Method ( Método do Cotovelo )\n",
    "clusters = np.arange( 2, 11, 1 )\n",
    "ss_list = []\n",
    "\n",
    "\n",
    "for c in clusters:\n",
    "    # define\n",
    "    kmeans = ct.KMeans(n_clusters=c, init='random', n_init=10, random_state=0)\n",
    "\n",
    "    # fit\n",
    "    labels = kmeans.fit_predict(df3)\n",
    "\n",
    "    # performance\n",
    "    ss_avg = mt.silhouette_score(df3, labels)\n",
    "\n",
    "    # add silhouette to list\n",
    "    ss_list.append(ss_avg)\n",
    "\n",
    "\n",
    "plt.plot(clusters, ss_list, marker='o')\n",
    "plt.xlabel('Number of Clusters');\n",
    "plt.ylabel('Avergage Silhouette Score');\n",
    "\n",
    "# Agrupamentos\n",
    "c = ss_list.index(max(ss_list)) + 2\n",
    "print('Best K: {}'.format(c))"
   ]
  },
  {
   "cell_type": "markdown",
   "metadata": {},
   "source": [
    "## 3.2 K-Means - Não Supervisionado"
   ]
  },
  {
   "cell_type": "code",
   "execution_count": 958,
   "metadata": {},
   "outputs": [
    {
     "name": "stdout",
     "output_type": "stream",
     "text": [
      "Cluster 0: 446 pontos\n",
      "Cluster 1: 10 pontos\n",
      "Cluster 2: 469 pontos\n",
      "Cluster 3: 345 pontos\n",
      "Cluster 4: 490 pontos\n",
      "Cluster 5: 267 pontos\n"
     ]
    },
    {
     "data": {
      "image/png": "[encoded data removed]",
      "text/plain": [
       "<Figure size 640x480 with 1 Axes>"
      ]
     },
     "metadata": {},
     "output_type": "display_data"
    }
   ],
   "source": [
    "# Melhor valor de k em n_clusters\n",
    "kmeans = ct.KMeans(n_clusters=6, init='random', n_init=10, random_state=0)\n",
    "labels = kmeans.fit_predict(df3)\n",
    "\n",
    "# Cluster counts\n",
    "cluster_counts = np.bincount(labels)\n",
    "\n",
    "# Quantidade de pontos do cluster\n",
    "pontos_dict = {}\n",
    "for cluster_num, count in enumerate(cluster_counts):\n",
    "\n",
    "    pontos_dict[f'Cluster {cluster_num}'] = count\n",
    "    \n",
    "    print(f'Cluster {cluster_num}: {count} pontos')\n",
    "\n",
    "# Coordenadas dos centroides\n",
    "centroids = kmeans.cluster_centers_\n",
    "\n",
    "# Plote os pontos\n",
    "scatter = plt.scatter(df3.iloc[:, 0], df3.iloc[:, 1], c=labels, cmap='viridis', marker='o', alpha=0.5)\n",
    "legend1 = plt.legend(*scatter.legend_elements(), title=\"Clusters\")\n",
    "\n",
    "# Plote os centroides\n",
    "plt.scatter(centroids[:, 0], centroids[:, 1], c='red', marker='x', s=100)\n",
    "\n",
    "plt.xlabel('Descrição Chamado')\n",
    "plt.ylabel('Log de interação')\n",
    "plt.title('Cluster - Chamado x Logi')\n",
    "plt.gca().add_artist(legend1)\n",
    "\n",
    "plt.show()"
   ]
  },
  {
   "cell_type": "markdown",
   "metadata": {},
   "source": [
    "## 3.3 Rótulos dos clusters"
   ]
  },
  {
   "cell_type": "code",
   "execution_count": 959,
   "metadata": {},
   "outputs": [],
   "source": [
    "# Rótulos dos clusters\n",
    "df_labels = pd.DataFrame({'Cluster_Labels': labels})\n",
    "df2_labeled = pd.concat([df2_to_label, df_labels], axis=1)"
   ]
  },
  {
   "cell_type": "markdown",
   "metadata": {},
   "source": [
    "## 3.4 Verificando Grupos"
   ]
  },
  {
   "cell_type": "code",
   "execution_count": 960,
   "metadata": {},
   "outputs": [
    {
     "data": {
      "text/html": [
       "<div>\n",
       "<style scoped>\n",
       "    .dataframe tbody tr th:only-of-type {\n",
       "        vertical-align: middle;\n",
       "    }\n",
       "\n",
       "    .dataframe tbody tr th {\n",
       "        vertical-align: top;\n",
       "    }\n",
       "\n",
       "    .dataframe thead th {\n",
       "        text-align: right;\n",
       "    }\n",
       "</style>\n",
       "<table border=\"1\" class=\"dataframe\">\n",
       "  <thead>\n",
       "    <tr style=\"text-align: right;\">\n",
       "      <th></th>\n",
       "      <th>descr_cham</th>\n",
       "      <th>logi</th>\n",
       "    </tr>\n",
       "  </thead>\n",
       "  <tbody>\n",
       "    <tr>\n",
       "      <th>0</th>\n",
       "      <td>integracao</td>\n",
       "      <td>8</td>\n",
       "    </tr>\n",
       "    <tr>\n",
       "      <th>1</th>\n",
       "      <td>addon</td>\n",
       "      <td>7</td>\n",
       "    </tr>\n",
       "    <tr>\n",
       "      <th>2</th>\n",
       "      <td>compras</td>\n",
       "      <td>5</td>\n",
       "    </tr>\n",
       "    <tr>\n",
       "      <th>3</th>\n",
       "      <td>banksync</td>\n",
       "      <td>4</td>\n",
       "    </tr>\n",
       "    <tr>\n",
       "      <th>4</th>\n",
       "      <td>licencas proximas vencimento</td>\n",
       "      <td>4</td>\n",
       "    </tr>\n",
       "    <tr>\n",
       "      <th>5</th>\n",
       "      <td>encerramento exercicio</td>\n",
       "      <td>3</td>\n",
       "    </tr>\n",
       "    <tr>\n",
       "      <th>6</th>\n",
       "      <td>apuracao icms</td>\n",
       "      <td>2</td>\n",
       "    </tr>\n",
       "    <tr>\n",
       "      <th>7</th>\n",
       "      <td>criar usuario</td>\n",
       "      <td>2</td>\n",
       "    </tr>\n",
       "    <tr>\n",
       "      <th>8</th>\n",
       "      <td>imobilizado</td>\n",
       "      <td>2</td>\n",
       "    </tr>\n",
       "    <tr>\n",
       "      <th>9</th>\n",
       "      <td>servidor certificado</td>\n",
       "      <td>2</td>\n",
       "    </tr>\n",
       "  </tbody>\n",
       "</table>\n",
       "</div>"
      ],
      "text/plain": [
       "                     descr_cham  logi\n",
       "0                    integracao     8\n",
       "1                        addon      7\n",
       "2                       compras     5\n",
       "3                      banksync     4\n",
       "4  licencas proximas vencimento     4\n",
       "5        encerramento exercicio     3\n",
       "6                 apuracao icms     2\n",
       "7                 criar usuario     2\n",
       "8                   imobilizado     2\n",
       "9          servidor certificado     2"
      ]
     },
     "execution_count": 960,
     "metadata": {},
     "output_type": "execute_result"
    }
   ],
   "source": [
    "# Suprimentos\n",
    "cluster_0_data = df2_labeled[df2_labeled['Cluster_Labels'] == 0]\n",
    "a = cluster_0_data.loc[:, ['descr_cham', 'logi']].groupby('descr_cham').count().sort_values('logi', ascending=False).reset_index()\n",
    "a.head(10)"
   ]
  },
  {
   "cell_type": "code",
   "execution_count": 961,
   "metadata": {},
   "outputs": [
    {
     "data": {
      "text/html": [
       "<div>\n",
       "<style scoped>\n",
       "    .dataframe tbody tr th:only-of-type {\n",
       "        vertical-align: middle;\n",
       "    }\n",
       "\n",
       "    .dataframe tbody tr th {\n",
       "        vertical-align: top;\n",
       "    }\n",
       "\n",
       "    .dataframe thead th {\n",
       "        text-align: right;\n",
       "    }\n",
       "</style>\n",
       "<table border=\"1\" class=\"dataframe\">\n",
       "  <thead>\n",
       "    <tr style=\"text-align: right;\">\n",
       "      <th></th>\n",
       "      <th>descr_cham</th>\n",
       "      <th>logi</th>\n",
       "    </tr>\n",
       "  </thead>\n",
       "  <tbody>\n",
       "    <tr>\n",
       "      <th>0</th>\n",
       "      <td>chave</td>\n",
       "      <td>1</td>\n",
       "    </tr>\n",
       "    <tr>\n",
       "      <th>1</th>\n",
       "      <td>contas pagar  docpay</td>\n",
       "      <td>1</td>\n",
       "    </tr>\n",
       "    <tr>\n",
       "      <th>2</th>\n",
       "      <td>derrubar acesso</td>\n",
       "      <td>1</td>\n",
       "    </tr>\n",
       "    <tr>\n",
       "      <th>3</th>\n",
       "      <td>docpay baixou parcialmente</td>\n",
       "      <td>1</td>\n",
       "    </tr>\n",
       "    <tr>\n",
       "      <th>4</th>\n",
       "      <td>inclusao permissao</td>\n",
       "      <td>1</td>\n",
       "    </tr>\n",
       "    <tr>\n",
       "      <th>5</th>\n",
       "      <td>layout</td>\n",
       "      <td>1</td>\n",
       "    </tr>\n",
       "    <tr>\n",
       "      <th>6</th>\n",
       "      <td>licenca banksyns</td>\n",
       "      <td>1</td>\n",
       "    </tr>\n",
       "    <tr>\n",
       "      <th>7</th>\n",
       "      <td>lista preco</td>\n",
       "      <td>1</td>\n",
       "    </tr>\n",
       "    <tr>\n",
       "      <th>8</th>\n",
       "      <td>reuniao integracao  sap  x unecont</td>\n",
       "      <td>1</td>\n",
       "    </tr>\n",
       "    <tr>\n",
       "      <th>9</th>\n",
       "      <td>ultima ativacao banksync</td>\n",
       "      <td>1</td>\n",
       "    </tr>\n",
       "  </tbody>\n",
       "</table>\n",
       "</div>"
      ],
      "text/plain": [
       "                           descr_cham  logi\n",
       "0                               chave     1\n",
       "1                contas pagar  docpay     1\n",
       "2                     derrubar acesso     1\n",
       "3        docpay baixou parcialmente       1\n",
       "4                  inclusao permissao     1\n",
       "5                              layout     1\n",
       "6                    licenca banksyns     1\n",
       "7                         lista preco     1\n",
       "8  reuniao integracao  sap  x unecont     1\n",
       "9            ultima ativacao banksync     1"
      ]
     },
     "execution_count": 961,
     "metadata": {},
     "output_type": "execute_result"
    }
   ],
   "source": [
    "# Suporte\n",
    "cluster_1_data = df2_labeled[df2_labeled['Cluster_Labels'] == 1]\n",
    "b = cluster_1_data.loc[:, ['descr_cham', 'logi']].groupby('descr_cham').count().sort_values('logi', ascending=False).reset_index()\n",
    "b.head(10)"
   ]
  },
  {
   "cell_type": "code",
   "execution_count": 962,
   "metadata": {},
   "outputs": [
    {
     "data": {
      "text/html": [
       "<div>\n",
       "<style scoped>\n",
       "    .dataframe tbody tr th:only-of-type {\n",
       "        vertical-align: middle;\n",
       "    }\n",
       "\n",
       "    .dataframe tbody tr th {\n",
       "        vertical-align: top;\n",
       "    }\n",
       "\n",
       "    .dataframe thead th {\n",
       "        text-align: right;\n",
       "    }\n",
       "</style>\n",
       "<table border=\"1\" class=\"dataframe\">\n",
       "  <thead>\n",
       "    <tr style=\"text-align: right;\">\n",
       "      <th></th>\n",
       "      <th>descr_cham</th>\n",
       "      <th>logi</th>\n",
       "    </tr>\n",
       "  </thead>\n",
       "  <tbody>\n",
       "    <tr>\n",
       "      <th>0</th>\n",
       "      <td>instalacao sap</td>\n",
       "      <td>10</td>\n",
       "    </tr>\n",
       "    <tr>\n",
       "      <th>1</th>\n",
       "      <td>integracao</td>\n",
       "      <td>8</td>\n",
       "    </tr>\n",
       "    <tr>\n",
       "      <th>2</th>\n",
       "      <td>licenca hana</td>\n",
       "      <td>4</td>\n",
       "    </tr>\n",
       "    <tr>\n",
       "      <th>3</th>\n",
       "      <td>anexo aparece</td>\n",
       "      <td>4</td>\n",
       "    </tr>\n",
       "    <tr>\n",
       "      <th>4</th>\n",
       "      <td>fiscal</td>\n",
       "      <td>4</td>\n",
       "    </tr>\n",
       "    <tr>\n",
       "      <th>5</th>\n",
       "      <td>periodo contabil</td>\n",
       "      <td>3</td>\n",
       "    </tr>\n",
       "    <tr>\n",
       "      <th>6</th>\n",
       "      <td>ajuste impostos retidos fonte  data</td>\n",
       "      <td>3</td>\n",
       "    </tr>\n",
       "    <tr>\n",
       "      <th>7</th>\n",
       "      <td>analise anexo</td>\n",
       "      <td>2</td>\n",
       "    </tr>\n",
       "    <tr>\n",
       "      <th>8</th>\n",
       "      <td>alcada anexo</td>\n",
       "      <td>2</td>\n",
       "    </tr>\n",
       "    <tr>\n",
       "      <th>9</th>\n",
       "      <td>ajuste calculo imposto</td>\n",
       "      <td>2</td>\n",
       "    </tr>\n",
       "  </tbody>\n",
       "</table>\n",
       "</div>"
      ],
      "text/plain": [
       "                            descr_cham  logi\n",
       "0                       instalacao sap    10\n",
       "1                           integracao     8\n",
       "2                         licenca hana     4\n",
       "3                        anexo aparece     4\n",
       "4                               fiscal     4\n",
       "5                     periodo contabil     3\n",
       "6  ajuste impostos retidos fonte  data     3\n",
       "7                        analise anexo     2\n",
       "8                         alcada anexo     2\n",
       "9               ajuste calculo imposto     2"
      ]
     },
     "execution_count": 962,
     "metadata": {},
     "output_type": "execute_result"
    }
   ],
   "source": [
    "# Contabilidade\n",
    "cluster_2_data = df2_labeled[df2_labeled['Cluster_Labels'] == 2]\n",
    "c = cluster_2_data.loc[:, ['descr_cham', 'logi']].groupby('descr_cham').count().sort_values('logi', ascending=False).reset_index()\n",
    "c.head(10)"
   ]
  },
  {
   "cell_type": "code",
   "execution_count": 963,
   "metadata": {},
   "outputs": [
    {
     "data": {
      "text/html": [
       "<div>\n",
       "<style scoped>\n",
       "    .dataframe tbody tr th:only-of-type {\n",
       "        vertical-align: middle;\n",
       "    }\n",
       "\n",
       "    .dataframe tbody tr th {\n",
       "        vertical-align: top;\n",
       "    }\n",
       "\n",
       "    .dataframe thead th {\n",
       "        text-align: right;\n",
       "    }\n",
       "</style>\n",
       "<table border=\"1\" class=\"dataframe\">\n",
       "  <thead>\n",
       "    <tr style=\"text-align: right;\">\n",
       "      <th></th>\n",
       "      <th>descr_cham</th>\n",
       "      <th>logi</th>\n",
       "    </tr>\n",
       "  </thead>\n",
       "  <tbody>\n",
       "    <tr>\n",
       "      <th>0</th>\n",
       "      <td>efdreinf</td>\n",
       "      <td>3</td>\n",
       "    </tr>\n",
       "    <tr>\n",
       "      <th>1</th>\n",
       "      <td>arvore consulta invalida</td>\n",
       "      <td>3</td>\n",
       "    </tr>\n",
       "    <tr>\n",
       "      <th>2</th>\n",
       "      <td>tabela preco</td>\n",
       "      <td>3</td>\n",
       "    </tr>\n",
       "    <tr>\n",
       "      <th>3</th>\n",
       "      <td>agendar anderson</td>\n",
       "      <td>2</td>\n",
       "    </tr>\n",
       "    <tr>\n",
       "      <th>4</th>\n",
       "      <td>instalacao</td>\n",
       "      <td>2</td>\n",
       "    </tr>\n",
       "    <tr>\n",
       "      <th>5</th>\n",
       "      <td>documentos abre</td>\n",
       "      <td>2</td>\n",
       "    </tr>\n",
       "    <tr>\n",
       "      <th>6</th>\n",
       "      <td>incluir gerente</td>\n",
       "      <td>2</td>\n",
       "    </tr>\n",
       "    <tr>\n",
       "      <th>7</th>\n",
       "      <td>ecf</td>\n",
       "      <td>2</td>\n",
       "    </tr>\n",
       "    <tr>\n",
       "      <th>8</th>\n",
       "      <td>depreciacao</td>\n",
       "      <td>2</td>\n",
       "    </tr>\n",
       "    <tr>\n",
       "      <th>9</th>\n",
       "      <td>bank sinc</td>\n",
       "      <td>2</td>\n",
       "    </tr>\n",
       "  </tbody>\n",
       "</table>\n",
       "</div>"
      ],
      "text/plain": [
       "                 descr_cham  logi\n",
       "0                  efdreinf     3\n",
       "1  arvore consulta invalida     3\n",
       "2              tabela preco     3\n",
       "3          agendar anderson     2\n",
       "4                instalacao     2\n",
       "5           documentos abre     2\n",
       "6           incluir gerente     2\n",
       "7                       ecf     2\n",
       "8               depreciacao     2\n",
       "9                 bank sinc     2"
      ]
     },
     "execution_count": 963,
     "metadata": {},
     "output_type": "execute_result"
    }
   ],
   "source": [
    "# Financeiro\n",
    "cluster_3_data = df2_labeled[df2_labeled['Cluster_Labels'] == 3]\n",
    "d = cluster_3_data.loc[:, ['descr_cham', 'logi']].groupby('descr_cham').count().sort_values('logi', ascending=False).reset_index()\n",
    "d.head(10)"
   ]
  },
  {
   "cell_type": "code",
   "execution_count": 964,
   "metadata": {},
   "outputs": [
    {
     "data": {
      "text/html": [
       "<div>\n",
       "<style scoped>\n",
       "    .dataframe tbody tr th:only-of-type {\n",
       "        vertical-align: middle;\n",
       "    }\n",
       "\n",
       "    .dataframe tbody tr th {\n",
       "        vertical-align: top;\n",
       "    }\n",
       "\n",
       "    .dataframe thead th {\n",
       "        text-align: right;\n",
       "    }\n",
       "</style>\n",
       "<table border=\"1\" class=\"dataframe\">\n",
       "  <thead>\n",
       "    <tr style=\"text-align: right;\">\n",
       "      <th></th>\n",
       "      <th>descr_cham</th>\n",
       "      <th>logi</th>\n",
       "    </tr>\n",
       "  </thead>\n",
       "  <tbody>\n",
       "    <tr>\n",
       "      <th>0</th>\n",
       "      <td>licenca sap</td>\n",
       "      <td>6</td>\n",
       "    </tr>\n",
       "    <tr>\n",
       "      <th>1</th>\n",
       "      <td>relatorio contas pagar</td>\n",
       "      <td>5</td>\n",
       "    </tr>\n",
       "    <tr>\n",
       "      <th>2</th>\n",
       "      <td>indisponibilidade acesso sap</td>\n",
       "      <td>5</td>\n",
       "    </tr>\n",
       "    <tr>\n",
       "      <th>3</th>\n",
       "      <td>sap ar</td>\n",
       "      <td>5</td>\n",
       "    </tr>\n",
       "    <tr>\n",
       "      <th>4</th>\n",
       "      <td>link download pl</td>\n",
       "      <td>4</td>\n",
       "    </tr>\n",
       "    <tr>\n",
       "      <th>5</th>\n",
       "      <td>acesso sap</td>\n",
       "      <td>4</td>\n",
       "    </tr>\n",
       "    <tr>\n",
       "      <th>6</th>\n",
       "      <td>sap funcionando</td>\n",
       "      <td>4</td>\n",
       "    </tr>\n",
       "    <tr>\n",
       "      <th>7</th>\n",
       "      <td>link download pl  skill</td>\n",
       "      <td>3</td>\n",
       "    </tr>\n",
       "    <tr>\n",
       "      <th>8</th>\n",
       "      <td>fiscal nota</td>\n",
       "      <td>3</td>\n",
       "    </tr>\n",
       "    <tr>\n",
       "      <th>9</th>\n",
       "      <td>sap travado</td>\n",
       "      <td>3</td>\n",
       "    </tr>\n",
       "  </tbody>\n",
       "</table>\n",
       "</div>"
      ],
      "text/plain": [
       "                     descr_cham  logi\n",
       "0                   licenca sap     6\n",
       "1        relatorio contas pagar     5\n",
       "2  indisponibilidade acesso sap     5\n",
       "3                        sap ar     5\n",
       "4             link download pl      4\n",
       "5                    acesso sap     4\n",
       "6               sap funcionando     4\n",
       "7       link download pl  skill     3\n",
       "8                   fiscal nota     3\n",
       "9                   sap travado     3"
      ]
     },
     "execution_count": 964,
     "metadata": {},
     "output_type": "execute_result"
    }
   ],
   "source": [
    "# SAP Erros\n",
    "cluster_4_data = df2_labeled[df2_labeled['Cluster_Labels'] == 4]\n",
    "e = cluster_4_data.loc[:, ['descr_cham', 'logi']].groupby('descr_cham').count().sort_values('logi', ascending=False).reset_index()\n",
    "e.head(10)"
   ]
  },
  {
   "cell_type": "code",
   "execution_count": 965,
   "metadata": {},
   "outputs": [
    {
     "data": {
      "text/html": [
       "<div>\n",
       "<style scoped>\n",
       "    .dataframe tbody tr th:only-of-type {\n",
       "        vertical-align: middle;\n",
       "    }\n",
       "\n",
       "    .dataframe tbody tr th {\n",
       "        vertical-align: top;\n",
       "    }\n",
       "\n",
       "    .dataframe thead th {\n",
       "        text-align: right;\n",
       "    }\n",
       "</style>\n",
       "<table border=\"1\" class=\"dataframe\">\n",
       "  <thead>\n",
       "    <tr style=\"text-align: right;\">\n",
       "      <th></th>\n",
       "      <th>descr_cham</th>\n",
       "      <th>logi</th>\n",
       "    </tr>\n",
       "  </thead>\n",
       "  <tbody>\n",
       "    <tr>\n",
       "      <th>0</th>\n",
       "      <td>licenca banksync</td>\n",
       "      <td>10</td>\n",
       "    </tr>\n",
       "    <tr>\n",
       "      <th>1</th>\n",
       "      <td>licenca</td>\n",
       "      <td>10</td>\n",
       "    </tr>\n",
       "    <tr>\n",
       "      <th>2</th>\n",
       "      <td>fiscal</td>\n",
       "      <td>4</td>\n",
       "    </tr>\n",
       "    <tr>\n",
       "      <th>3</th>\n",
       "      <td>renovar licenca</td>\n",
       "      <td>4</td>\n",
       "    </tr>\n",
       "    <tr>\n",
       "      <th>4</th>\n",
       "      <td>atualizacao pl</td>\n",
       "      <td>4</td>\n",
       "    </tr>\n",
       "    <tr>\n",
       "      <th>5</th>\n",
       "      <td>licenca triple one</td>\n",
       "      <td>3</td>\n",
       "    </tr>\n",
       "    <tr>\n",
       "      <th>6</th>\n",
       "      <td>link pl</td>\n",
       "      <td>3</td>\n",
       "    </tr>\n",
       "    <tr>\n",
       "      <th>7</th>\n",
       "      <td>licenca hana</td>\n",
       "      <td>3</td>\n",
       "    </tr>\n",
       "    <tr>\n",
       "      <th>8</th>\n",
       "      <td>renovacao licenca</td>\n",
       "      <td>3</td>\n",
       "    </tr>\n",
       "    <tr>\n",
       "      <th>9</th>\n",
       "      <td>contrato saldo</td>\n",
       "      <td>2</td>\n",
       "    </tr>\n",
       "  </tbody>\n",
       "</table>\n",
       "</div>"
      ],
      "text/plain": [
       "           descr_cham  logi\n",
       "0    licenca banksync    10\n",
       "1             licenca    10\n",
       "2              fiscal     4\n",
       "3     renovar licenca     4\n",
       "4     atualizacao pl      4\n",
       "5  licenca triple one     3\n",
       "6            link pl      3\n",
       "7        licenca hana     3\n",
       "8   renovacao licenca     3\n",
       "9      contrato saldo     2"
      ]
     },
     "execution_count": 965,
     "metadata": {},
     "output_type": "execute_result"
    }
   ],
   "source": [
    "# Licenças\n",
    "cluster_5_data = df2_labeled[df2_labeled['Cluster_Labels'] == 5]\n",
    "e = cluster_5_data.loc[:, ['descr_cham', 'logi']].groupby('descr_cham').count().sort_values('logi', ascending=False).reset_index()\n",
    "e.head(10)"
   ]
  },
  {
   "cell_type": "markdown",
   "metadata": {},
   "source": [
    "# 4.0 Preparando o dataset para devolutiva"
   ]
  },
  {
   "cell_type": "code",
   "execution_count": 966,
   "metadata": {},
   "outputs": [
    {
     "data": {
      "text/html": [
       "<div>\n",
       "<style scoped>\n",
       "    .dataframe tbody tr th:only-of-type {\n",
       "        vertical-align: middle;\n",
       "    }\n",
       "\n",
       "    .dataframe tbody tr th {\n",
       "        vertical-align: top;\n",
       "    }\n",
       "\n",
       "    .dataframe thead th {\n",
       "        text-align: right;\n",
       "    }\n",
       "</style>\n",
       "<table border=\"1\" class=\"dataframe\">\n",
       "  <thead>\n",
       "    <tr style=\"text-align: right;\">\n",
       "      <th></th>\n",
       "      <th>TIPO_CHAMADO</th>\n",
       "      <th>DS_FRENTE_CHAMADO</th>\n",
       "      <th>DS_DESCRICAO_CHAMADO</th>\n",
       "      <th>LOG_INTERACAO</th>\n",
       "      <th>GRUPO_CHAMADO</th>\n",
       "    </tr>\n",
       "  </thead>\n",
       "  <tbody>\n",
       "    <tr>\n",
       "      <th>0</th>\n",
       "      <td>INCIDENTE</td>\n",
       "      <td>B1</td>\n",
       "      <td>#0121-000006</td>\n",
       "      <td>Favor incluir o código ANP nas utilizações em ...</td>\n",
       "      <td>Contabilidade</td>\n",
       "    </tr>\n",
       "    <tr>\n",
       "      <th>1</th>\n",
       "      <td>INCIDENTE</td>\n",
       "      <td>B1</td>\n",
       "      <td>#0121-000009</td>\n",
       "      <td>Favor validar porque na carga é permitido e na...</td>\n",
       "      <td>Suprimentos</td>\n",
       "    </tr>\n",
       "    <tr>\n",
       "      <th>2</th>\n",
       "      <td>INCIDENTE</td>\n",
       "      <td>B1</td>\n",
       "      <td>PERIODO CONTABIL</td>\n",
       "      <td>Bom dia!  Ao tentar fazer os lançamentos com a...</td>\n",
       "      <td>Contabilidade</td>\n",
       "    </tr>\n",
       "    <tr>\n",
       "      <th>3</th>\n",
       "      <td>INCIDENTE</td>\n",
       "      <td>B1</td>\n",
       "      <td>#0121-000015</td>\n",
       "      <td>O relatório de Movimentações, em Granel Relató...</td>\n",
       "      <td>Licenças</td>\n",
       "    </tr>\n",
       "    <tr>\n",
       "      <th>4</th>\n",
       "      <td>INCIDENTE</td>\n",
       "      <td>B1</td>\n",
       "      <td>#0121-000022</td>\n",
       "      <td>Ao extrair o relatório de cliente das filiais ...</td>\n",
       "      <td>Suprimentos</td>\n",
       "    </tr>\n",
       "  </tbody>\n",
       "</table>\n",
       "</div>"
      ],
      "text/plain": [
       "  TIPO_CHAMADO DS_FRENTE_CHAMADO DS_DESCRICAO_CHAMADO  \\\n",
       "0    INCIDENTE                B1         #0121-000006   \n",
       "1    INCIDENTE                B1         #0121-000009   \n",
       "2    INCIDENTE                B1     PERIODO CONTABIL   \n",
       "3    INCIDENTE                B1         #0121-000015   \n",
       "4    INCIDENTE                B1         #0121-000022   \n",
       "\n",
       "                                       LOG_INTERACAO  GRUPO_CHAMADO  \n",
       "0  Favor incluir o código ANP nas utilizações em ...  Contabilidade  \n",
       "1  Favor validar porque na carga é permitido e na...    Suprimentos  \n",
       "2  Bom dia!  Ao tentar fazer os lançamentos com a...  Contabilidade  \n",
       "3  O relatório de Movimentações, em Granel Relató...       Licenças  \n",
       "4  Ao extrair o relatório de cliente das filiais ...    Suprimentos  "
      ]
     },
     "execution_count": 966,
     "metadata": {},
     "output_type": "execute_result"
    }
   ],
   "source": [
    "# Cocatenando dataframe original aos labels do cluster\n",
    "df_grupos = pd.concat([df_raw, df_labels], axis=1)\n",
    "\n",
    "# Renomeando coluna\n",
    "df_grupos = df_grupos.rename(columns={'Cluster_Labels': 'GRUPO_CHAMADO'})\n",
    "\n",
    "# Renomeando grupos\n",
    "df_grupos['GRUPO_CHAMADO'] = df_grupos['GRUPO_CHAMADO'].astype(str)\n",
    "\n",
    "mapeamento = {'0': 'Suprimentos',\n",
    "              '1': 'Suporte',\n",
    "              '2': 'Contabilidade',\n",
    "              '3': 'Financeiro',\n",
    "              '4': 'SAP Erros',\n",
    "              '5': 'Licenças'}\n",
    "\n",
    "df_grupos['GRUPO_CHAMADO'] = df_grupos['GRUPO_CHAMADO'].map(mapeamento)\n",
    "df_grupos.head()"
   ]
  },
  {
   "cell_type": "markdown",
   "metadata": {},
   "source": [
    "## 4.1 Exportando Dataset"
   ]
  },
  {
   "cell_type": "code",
   "execution_count": 968,
   "metadata": {},
   "outputs": [],
   "source": [
    "df_grupos.to_excel('dataset/grupos_chamados.xlsx', index=False)"
   ]
  },
  {
   "cell_type": "markdown",
   "metadata": {},
   "source": [
    "# 5.0 Respondendo a pergunta"
   ]
  },
  {
   "cell_type": "markdown",
   "metadata": {},
   "source": [
    "Grupos com mais chamados:\n",
    "\n",
    "1- SAP Erros: 492 \n",
    "\n",
    "2- Contabilidade: 464\n",
    "\n",
    "3- Suprimentos: 448"
   ]
  }
 ],
 "metadata": {
  "kernelspec": {
   "display_name": "megawork_ds",
   "language": "python",
   "name": "python3"
  },
  "language_info": {
   "codemirror_mode": {
    "name": "ipython",
    "version": 3
   },
   "file_extension": ".py",
   "mimetype": "text/x-python",
   "name": "python",
   "nbconvert_exporter": "python",
   "pygments_lexer": "ipython3",
   "version": "3.10.13"
  },
  "orig_nbformat": 4
 },
 "nbformat": 4,
 "nbformat_minor": 2
}
